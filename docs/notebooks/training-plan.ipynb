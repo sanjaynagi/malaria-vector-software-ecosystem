{
 "cells": [
  {
   "cell_type": "markdown",
   "id": "3dcd7117",
   "metadata": {},
   "source": [
    "# Training plan"
   ]
  },
  {
   "cell_type": "markdown",
   "id": "9fabac74",
   "metadata": {},
   "source": [
    "Please give feedback and comments on the plan for the training directly to [me](mailto:sanjay.c.nagi@gmail.com)"
   ]
  },
  {
   "cell_type": "markdown",
   "id": "53f1adb6",
   "metadata": {},
   "source": [
    "The idea for the course is to complement the malariagen-PAMCA workshops, focusing less on pop gen and WGS, and more on other types of omic data, such as RNA and Amplicon Sequencing, on general concepts in bioinformatics, such as using workflow managers (snakemake) and git. \n",
    "\n",
    "Using the [RNA-Seq-Pop](https://github.com/sanjaynagi/rna-seq-pop) example dataset (downloaded directly within the workflow with ffq), we give each participant two or three candidate genes to use for further steps, which they then use throughout the course, with [malariagen_data](https://github.com/malariagen/malariagen-data-python), [AnoExpress](https://github.com/sanjaynagi/AmpSeeker), [AgamPrimer](https://github.com/sanjaynagi/AgamPrimer) etc. Ideally these are interesting candidates. At the end of the course, everyone presents what they found, in a similar way to the TROP970 bioinformatics module. \n"
   ]
  },
  {
   "cell_type": "markdown",
   "id": "9438a74e",
   "metadata": {},
   "source": [
    "#### Outline\n",
    "\n",
    "**Day 1 -  Intro to Anopheles genomics, pipelines and [RNA-Seq-Pop](https://github.com/sanjaynagi/rna-seq-pop)**\n",
    "\n",
    "---\n",
    "\n",
    "[am] Intro  \n",
    "\n",
    "Genomic surveillance of malaria vectors, what, why, how   \n",
    "Introduction to the malaria package ecosystem  \n",
    "omic’ approaches to discovering genes and mutations involved in insecticide resistance  \n",
    "\n",
    "vscode and Bioinformatic data skills\n",
    "\n",
    "[pm] Workflow managers + RNA-Seq-Pop  \n",
    "[Introduction to workflow managers and snakemake](https://docs.google.com/presentation/d/1zZZBGo7e-DjD79NS2_9Fnk0GYAqpp5AmdenDsuaT6sk/edit?usp=sharing)  \n",
    "[RNA-Seq-Pop lecture](https://docs.google.com/presentation/d/1U64b85XCN-FU5OKjnMHQRmUfi-QhsmDtw9lzt8eKxNw/edit?usp=sharing) \n",
    "\n",
    "**Workshop**  \n",
    "Getting started, the snakemake directory structure  \n",
    "Configuring the workflow   \n",
    "ffq to download training data, set off running!  \n",
    "Meanwhile, dummy result data. We will explore results tomorrow.  \n",
    "\n",
    "<br></br>\n",
    "\n",
    "**Day 2 - Transcriptomics - [RNA-Seq-Pop](https://github.com/sanjaynagi/rna-seq-pop) and [AnoExpress](https://github.com/sanjaynagi/AnoExpress)**\n",
    "\n",
    "---\n",
    "\n",
    " \n",
    "[am] - RNA-Seq-Pop results  \n",
    "\n",
    "Intro to transcriptomics   \n",
    "Exploring RNA-Seq-Pop results  \n",
    "Give each participant candidate genes to look into in future sessions.   \n",
    "\n",
    "[pm] - Transcriptomics \n",
    "\n",
    "Transcriptomic studies of malaria vectors, past, current, future    \n",
    "Intro to AnoExpress -  the package   \n",
    "\n",
    "**Workshop**  \n",
    "Using [AnoExpress](https://github.com/sanjaynagi/AnoExpress) to load and visualise expression data, do GSEA, etc. \n",
    "\n",
    "\n",
    "<br></br>\n",
    "\n",
    "\n",
    "**Day 3 - WGS + malariagen_data + GWSS**\n",
    "\n",
    "---\n",
    "\n",
    "[am] - WGS, Ag1000g and [malariagen_data](https://github.com/malariagen/malariagen-data-python)\n",
    "\n",
    "Intro/Recap on WGS / Ag1000G\n",
    "Intro to malariagen_data\n",
    "\n",
    "**Workshop**  \n",
    "Using malariagen_data for IR related gene/mutation discovery   \n",
    "Malariagen_data + AnoExpress functions   \n",
    "\n",
    "[pm] - GWSS and the [malaria vector selection atlas](https://github.com/anopheles-genomic-surveillance/selection-atlas)\n",
    "\n",
    "Intro to selection and genome-wide selection scans  \n",
    "The malaria vector selection Atlas  \n",
    "\n",
    "\n",
    "<br></br>\n",
    "\n",
    "\n",
    "**Day 4 - Primer/probe design and Amplicon sequencing**  \n",
    "\n",
    "--- \n",
    "\n",
    "[am] [AgamPrimer](https://github.com/sanjaynagi/AgamPrimer)\n",
    "\n",
    "Case study first - Kdr/Ace1  \n",
    "Taking candidates and designing primers and probes   \n",
    "Designing LNA assays for snp genotyping   \n",
    "\n",
    "\n",
    "[pm] Amplicon sequencing \n",
    "\n",
    "Introduction to amplicon sequencing  \n",
    "[AnoSpp](https://www.sanger.ac.uk/collaboration/the-anospp-project/)  \n",
    "[Multiply](https://github.com/JasonAHendry/multiply) - amplicon sequencing panel design   \n",
    "[AmpSeeker](https://github.com/sanjaynagi/AmpSeeker) pipeline\n",
    "\n",
    "**Workshop**  \n",
    "Run AmpSeeker example dataset analysis and explore results\n",
    "\n",
    "<br></br>\n"
   ]
  },
  {
   "cell_type": "markdown",
   "id": "72713f84",
   "metadata": {},
   "source": [
    "**Day 5 - Show and tell, and wrap up**\n",
    "\n",
    "--- \n",
    "\n",
    "[am] \n",
    "\n",
    "Presentations/show and tell on what everyone has found\n",
    "\n",
    "[pm]\n",
    "\n",
    "Good practices in bioinformatics and data analysis [Vince Buffalo - bioinformatics book]  \n",
    "Folder structure   \n",
    "Github / git / repos   \n",
    "reproducibility / conda   \n",
    "\n",
    "Everyone does own bits of analysis, we help  \n",
    "Help with others own bioinformatic projects \n"
   ]
  },
  {
   "cell_type": "code",
   "execution_count": null,
   "id": "f15d72e3",
   "metadata": {
    "vscode": {
     "languageId": "plaintext"
    }
   },
   "outputs": [],
   "source": []
  }
 ],
 "metadata": {
  "kernelspec": {
   "display_name": "Python 3 (ipykernel)",
   "language": "python",
   "name": "python3"
  },
  "language_info": {
   "codemirror_mode": {
    "name": "ipython",
    "version": 3
   },
   "file_extension": ".py",
   "mimetype": "text/x-python",
   "name": "python",
   "nbconvert_exporter": "python",
   "pygments_lexer": "ipython3",
   "version": "3.10.10"
  }
 },
 "nbformat": 4,
 "nbformat_minor": 5
}
