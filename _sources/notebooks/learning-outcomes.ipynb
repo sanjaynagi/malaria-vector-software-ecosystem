{
 "cells": [
  {
   "attachments": {},
   "cell_type": "markdown",
   "id": "4b2e5f32",
   "metadata": {},
   "source": [
    "# Aims and Objectives\n",
    "\n",
    "Whilst working through the course, we would like participants to gain confidence in the following:\n",
    "\n",
    "- Understand the concepts behind WGS, RNA-Sequencing and Amplicon sequencing. \n",
    "- Understand the utility of workflow managers (Snakemake, Nextflow) in bioinformatics. \n",
    "- Feel equipped to analyse multiple types of omics data - in particular RNA-Seq and Amplicon Sequencing. \n",
    "- Enhance research into genomic surveillance and novel resistance variant discovery.. "
   ]
  },
  {
   "cell_type": "code",
   "execution_count": null,
   "id": "b592aa00",
   "metadata": {},
   "outputs": [],
   "source": []
  }
 ],
 "metadata": {
  "kernelspec": {
   "display_name": "Python 3 (ipykernel)",
   "language": "python",
   "name": "python3"
  },
  "language_info": {
   "codemirror_mode": {
    "name": "ipython",
    "version": 3
   },
   "file_extension": ".py",
   "mimetype": "text/x-python",
   "name": "python",
   "nbconvert_exporter": "python",
   "pygments_lexer": "ipython3",
   "version": "3.10.10"
  }
 },
 "nbformat": 4,
 "nbformat_minor": 5
}
