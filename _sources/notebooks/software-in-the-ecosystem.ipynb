{
 "cells": [
  {
   "cell_type": "markdown",
   "id": "4b2e5f32",
   "metadata": {},
   "source": [
    "# Software in the malaria vector ecosystem\n",
    "\n",
    "\n",
    "#### Whole-genome\n",
    "- [malariagen_data](https://github.com/malariagen/malariagen-data) - a package for accessing and analysing data from the MalariaGEN Ag1000g Project\n",
    "- [The Malaria Vector Selection-Atlas](https://github.com/anopheles-genomic-surveillance/selection-atlas) - A web-page resource of selective sweep signals in Ag3 (not yet live). \n",
    "\n",
    "#### Transcriptomics \n",
    "- [rna-seq-pop](https://github.com/sanjaynagi/rna-seq-pop) - a snakemake workflow for analysing RNA-seq data and extracting population genomic signals\n",
    "- [AnoExpress](https://github.com/sanjaynagi/AnoExpress) - A python package to load, visualise and analyse results from a meta-analysis of transcriptomic studies into insecticide resistance in *An. gambiae s.l* and *An. funestus*. \n",
    "\n",
    "#### Amplicon sequencing\n",
    "- [AmpSeeker](https://github.com/sanjaynagi/AmpSeeker) - A snakemake workflow to analyse Illumina amplicon sequencing data. \n",
    "- [AnoSpp](https://github.com/malariagen/anospp-analysis/) - a python package for analysing data from the AnoSpp amplicon sequencing panel\n",
    "- [Multiply](https://github.com/JasonAHendry/multiply) - A python package and command-line tool to design multiplex PCRs for amplicon sequencing. \n",
    "<br></br>\n",
    "- [AgamPrimer](https://github.com/sanjaynagi/AgamPrimer) - A python package to design primers in *An. gambiae* and *An. funestus*."
   ]
  },
  {
   "cell_type": "markdown",
   "id": "f3532e11",
   "metadata": {},
   "source": []
  }
 ],
 "metadata": {
  "kernelspec": {
   "display_name": "Python 3 (ipykernel)",
   "language": "python",
   "name": "python3"
  },
  "language_info": {
   "codemirror_mode": {
    "name": "ipython",
    "version": 3
   },
   "file_extension": ".py",
   "mimetype": "text/x-python",
   "name": "python",
   "nbconvert_exporter": "python",
   "pygments_lexer": "ipython3",
   "version": "3.10.10"
  }
 },
 "nbformat": 4,
 "nbformat_minor": 5
}
