{
 "cells": [
  {
   "cell_type": "markdown",
   "id": "4b2e5f32",
   "metadata": {},
   "source": [
    "# KEMRI training agenda \n",
    "\n",
    "\n",
    "# Thursday \n",
    "\n",
    "- 10-11am - Introductions, server setup + data for rna-seq-pop, vscode, bioinformatic data skills.\n",
    "- 11-11.30pm - Malaria genomics recap\n",
    "- 12pm - Introduction to the malaria package ecosystem +\n",
    "\n",
    "\n",
    "- 1-1.30pm - Introduction to workflow managers (snakemake, nextflow) \n",
    "- 1.30-2pm - [RNA-Seq-Pop lecture](https://docs.google.com/presentation/d/1U64b85XCN-FU5OKjnMHQRmUfi-QhsmDtw9lzt8eKxNw/edit#slide=id.p)\n",
    "- 2-3pm - RNA-Seq-Pop workshop\n",
    "- 3pm onwards - Free time/continue workshops\n",
    "\n",
    "\n",
    "# Friday \n",
    "\n",
    "- 10-11pm - Intro to IR transcriptomics and AnoExpress lecture\n",
    "- 11-12pm - AnoExpress workshop\n",
    "\n",
    "- 1-2pm - \n",
    "- 2-3pm - \n",
    "\n",
    "\n",
    "# Monday \n",
    "\n",
    "Whatever people would like to focus on!\n",
    "\n",
    "amplicon sequencing?\n",
    "16s? (I know nothing about this yet) \n",
    "nanopore?"
   ]
  },
  {
   "cell_type": "code",
   "execution_count": null,
   "id": "e729ec4f",
   "metadata": {},
   "outputs": [],
   "source": []
  }
 ],
 "metadata": {
  "kernelspec": {
   "display_name": "Python 3 (ipykernel)",
   "language": "python",
   "name": "python3"
  },
  "language_info": {
   "codemirror_mode": {
    "name": "ipython",
    "version": 3
   },
   "file_extension": ".py",
   "mimetype": "text/x-python",
   "name": "python",
   "nbconvert_exporter": "python",
   "pygments_lexer": "ipython3",
   "version": "3.10.10"
  }
 },
 "nbformat": 4,
 "nbformat_minor": 5
}
