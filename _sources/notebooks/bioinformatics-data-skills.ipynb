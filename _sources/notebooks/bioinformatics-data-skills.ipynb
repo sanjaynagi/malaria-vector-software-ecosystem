{
 "cells": [
  {
   "cell_type": "markdown",
   "id": "07538b81",
   "metadata": {},
   "source": [
    "# Bioinformatic data skills\n",
    "\n",
    "For everyone new to bioinformatics, I strongly recommend reading the following book, written by Vince Buffalo, a bioinformatician and population geneticist. It it an excellent introduction to bioinformatics, and the kind of concepts its important to think about, such as how to perform organised, robust and reproducible data analysis. \n",
    "\n",
    "The first few chapters, which are more general, are particularly useful.\n",
    "\n",
    "---\n",
    "\n",
    "Vince Buffalo - [Bioinformatic data skills](https://vincebuffalo.com/book/)\n",
    "\n",
    "- Someone has made the [PDF available on github](https://github.com/Kur1sutaru/bioinformatics-data-skills/blob/be81851d92e738a054fc32540136467b89f5abd2/book-bioinformatics-data-skills.pdf) (though I'm not quite sure if this is legal)"
   ]
  }
 ],
 "metadata": {
  "kernelspec": {
   "display_name": "Python 3 (ipykernel)",
   "language": "python",
   "name": "python3"
  },
  "language_info": {
   "codemirror_mode": {
    "name": "ipython",
    "version": 3
   },
   "file_extension": ".py",
   "mimetype": "text/x-python",
   "name": "python",
   "nbconvert_exporter": "python",
   "pygments_lexer": "ipython3",
   "version": "3.10.10"
  }
 },
 "nbformat": 4,
 "nbformat_minor": 5
}
