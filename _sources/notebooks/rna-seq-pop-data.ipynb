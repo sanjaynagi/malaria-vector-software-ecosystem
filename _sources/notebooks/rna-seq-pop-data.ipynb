{
 "cells": [
  {
   "cell_type": "markdown",
   "id": "4b2e5f32",
   "metadata": {},
   "source": [
    "# Locating RNA-Seq-Pop data \n",
    "\n",
    "In order to analyse data in which we might find something useful, we can download published datasets which have not been put through RNA-Seq-Pop. "
   ]
  },
  {
   "cell_type": "code",
   "execution_count": 3,
   "id": "0fbe0d29",
   "metadata": {},
   "outputs": [],
   "source": [
    "import pandas as pd"
   ]
  },
  {
   "cell_type": "code",
   "execution_count": 6,
   "id": "f9bab149",
   "metadata": {},
   "outputs": [
    {
     "data": {
      "text/html": [
       "<div>\n",
       "<style scoped>\n",
       "    .dataframe tbody tr th:only-of-type {\n",
       "        vertical-align: middle;\n",
       "    }\n",
       "\n",
       "    .dataframe tbody tr th {\n",
       "        vertical-align: top;\n",
       "    }\n",
       "\n",
       "    .dataframe thead th {\n",
       "        text-align: right;\n",
       "    }\n",
       "</style>\n",
       "<table border=\"1\" class=\"dataframe\">\n",
       "  <thead>\n",
       "    <tr style=\"text-align: right;\">\n",
       "      <th></th>\n",
       "      <th>run_accession</th>\n",
       "      <th>sample_accession</th>\n",
       "      <th>experiment_accession</th>\n",
       "      <th>study_accession</th>\n",
       "      <th>tax_id</th>\n",
       "      <th>scientific_name</th>\n",
       "      <th>fastq_ftp</th>\n",
       "      <th>submitted_ftp</th>\n",
       "      <th>sra_ftp</th>\n",
       "    </tr>\n",
       "  </thead>\n",
       "  <tbody>\n",
       "    <tr>\n",
       "      <th>0</th>\n",
       "      <td>ERR5883600</td>\n",
       "      <td>SAMEA8693395</td>\n",
       "      <td>ERX5527049</td>\n",
       "      <td>PRJEB44777</td>\n",
       "      <td>7165</td>\n",
       "      <td>Anopheles gambiae</td>\n",
       "      <td>ftp.sra.ebi.ac.uk/vol1/fastq/ERR588/000/ERR588...</td>\n",
       "      <td>ftp.sra.ebi.ac.uk/vol1/run/ERR588/ERR5883600/T...</td>\n",
       "      <td>NaN</td>\n",
       "    </tr>\n",
       "    <tr>\n",
       "      <th>1</th>\n",
       "      <td>ERR5883607</td>\n",
       "      <td>SAMEA8693402</td>\n",
       "      <td>ERX5527056</td>\n",
       "      <td>PRJEB44777</td>\n",
       "      <td>7165</td>\n",
       "      <td>Anopheles gambiae</td>\n",
       "      <td>ftp.sra.ebi.ac.uk/vol1/fastq/ERR588/007/ERR588...</td>\n",
       "      <td>ftp.sra.ebi.ac.uk/vol1/run/ERR588/ERR5883607/D...</td>\n",
       "      <td>NaN</td>\n",
       "    </tr>\n",
       "    <tr>\n",
       "      <th>2</th>\n",
       "      <td>ERR5883608</td>\n",
       "      <td>SAMEA8693403</td>\n",
       "      <td>ERX5527057</td>\n",
       "      <td>PRJEB44777</td>\n",
       "      <td>7165</td>\n",
       "      <td>Anopheles gambiae</td>\n",
       "      <td>ftp.sra.ebi.ac.uk/vol1/fastq/ERR588/008/ERR588...</td>\n",
       "      <td>ftp.sra.ebi.ac.uk/vol1/run/ERR588/ERR5883608/D...</td>\n",
       "      <td>NaN</td>\n",
       "    </tr>\n",
       "    <tr>\n",
       "      <th>3</th>\n",
       "      <td>ERR5883609</td>\n",
       "      <td>SAMEA8693404</td>\n",
       "      <td>ERX5527058</td>\n",
       "      <td>PRJEB44777</td>\n",
       "      <td>7165</td>\n",
       "      <td>Anopheles gambiae</td>\n",
       "      <td>ftp.sra.ebi.ac.uk/vol1/fastq/ERR588/009/ERR588...</td>\n",
       "      <td>ftp.sra.ebi.ac.uk/vol1/run/ERR588/ERR5883609/C...</td>\n",
       "      <td>NaN</td>\n",
       "    </tr>\n",
       "    <tr>\n",
       "      <th>4</th>\n",
       "      <td>ERR5883614</td>\n",
       "      <td>SAMEA8693409</td>\n",
       "      <td>ERX5527063</td>\n",
       "      <td>PRJEB44777</td>\n",
       "      <td>7165</td>\n",
       "      <td>Anopheles gambiae</td>\n",
       "      <td>ftp.sra.ebi.ac.uk/vol1/fastq/ERR588/004/ERR588...</td>\n",
       "      <td>ftp.sra.ebi.ac.uk/vol1/run/ERR588/ERR5883614/T...</td>\n",
       "      <td>NaN</td>\n",
       "    </tr>\n",
       "  </tbody>\n",
       "</table>\n",
       "</div>"
      ],
      "text/plain": [
       "  run_accession sample_accession experiment_accession study_accession  tax_id   \n",
       "0    ERR5883600     SAMEA8693395           ERX5527049      PRJEB44777    7165  \\\n",
       "1    ERR5883607     SAMEA8693402           ERX5527056      PRJEB44777    7165   \n",
       "2    ERR5883608     SAMEA8693403           ERX5527057      PRJEB44777    7165   \n",
       "3    ERR5883609     SAMEA8693404           ERX5527058      PRJEB44777    7165   \n",
       "4    ERR5883614     SAMEA8693409           ERX5527063      PRJEB44777    7165   \n",
       "\n",
       "     scientific_name                                          fastq_ftp   \n",
       "0  Anopheles gambiae  ftp.sra.ebi.ac.uk/vol1/fastq/ERR588/000/ERR588...  \\\n",
       "1  Anopheles gambiae  ftp.sra.ebi.ac.uk/vol1/fastq/ERR588/007/ERR588...   \n",
       "2  Anopheles gambiae  ftp.sra.ebi.ac.uk/vol1/fastq/ERR588/008/ERR588...   \n",
       "3  Anopheles gambiae  ftp.sra.ebi.ac.uk/vol1/fastq/ERR588/009/ERR588...   \n",
       "4  Anopheles gambiae  ftp.sra.ebi.ac.uk/vol1/fastq/ERR588/004/ERR588...   \n",
       "\n",
       "                                       submitted_ftp  sra_ftp  \n",
       "0  ftp.sra.ebi.ac.uk/vol1/run/ERR588/ERR5883600/T...      NaN  \n",
       "1  ftp.sra.ebi.ac.uk/vol1/run/ERR588/ERR5883607/D...      NaN  \n",
       "2  ftp.sra.ebi.ac.uk/vol1/run/ERR588/ERR5883608/D...      NaN  \n",
       "3  ftp.sra.ebi.ac.uk/vol1/run/ERR588/ERR5883609/C...      NaN  \n",
       "4  ftp.sra.ebi.ac.uk/vol1/run/ERR588/ERR5883614/T...      NaN  "
      ]
     },
     "execution_count": 6,
     "metadata": {},
     "output_type": "execute_result"
    }
   ],
   "source": [
    "## Tiassale transfluthrin, useful to compare with stephens data\n",
    "tft_srr = pd.read_csv(\"../../resources/tiassale_transfluthrin_sra.txt\", sep=\"\\t\")\n",
    "tft_srr.head()"
   ]
  },
  {
   "cell_type": "markdown",
   "id": "8bbe06fd",
   "metadata": {},
   "source": [
    "### An. arabiensis\n"
   ]
  },
  {
   "cell_type": "code",
   "execution_count": 14,
   "id": "a9e4ab5e",
   "metadata": {},
   "outputs": [],
   "source": [
    "srr = pd.read_csv(\"../../resources/AraEthSRX.csv\", sep=\"\\t\")\n",
    "srr_list = srr['acc'].to_list()\n",
    "\n",
    "for srr in srr_list:\n",
    "    !ffq --ncbi $srr | jq -r '.[] | .url' | xargs curl -O"
   ]
  },
  {
   "cell_type": "markdown",
   "id": "b592aa00",
   "metadata": {},
   "source": [
    "### *An. funestus*\n",
    "\n",
    "Lets try and download some data from An. funestus, from the Wondji group. There are five published funestus experiments in AnoExpress. \n",
    "\n",
    "- Ghana, Cameroon, Uganda, Mozambique, Malawi."
   ]
  }
 ],
 "metadata": {
  "kernelspec": {
   "display_name": "Python 3 (ipykernel)",
   "language": "python",
   "name": "python3"
  },
  "language_info": {
   "codemirror_mode": {
    "name": "ipython",
    "version": 3
   },
   "file_extension": ".py",
   "mimetype": "text/x-python",
   "name": "python",
   "nbconvert_exporter": "python",
   "pygments_lexer": "ipython3",
   "version": "3.10.10"
  }
 },
 "nbformat": 4,
 "nbformat_minor": 5
}
