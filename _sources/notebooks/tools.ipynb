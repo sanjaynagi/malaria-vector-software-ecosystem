{
 "cells": [
  {
   "attachments": {},
   "cell_type": "markdown",
   "id": "796ccf1b",
   "metadata": {},
   "source": [
    "# Tools in the malaria vector software ecosystem\n",
    "\n",
    "**[malariagen_data](https://github.com/malariagen/malariagen-data-python)** - \n",
    "A python package to access and analyse data from the Anopheles 1000 genomes project in the cloud.\n",
    "\n",
    "\n",
    "\n",
    "**[RNA-Seq-Pop](https://github.com/sanjaynagi/rna-seq-pop)** - \n",
    "A reproducible snakemake pipeline to analyse RNA-Seq data from any organism. Calls variants and performs population genomic analyses as well as typical transcriptomic analyses\n",
    "\n",
    "\n",
    "**[AnoExpress](https://github.com/sanjaynagi/AnoExpress)**\n",
    "A python package to load and explore data from a meta-analysis of transcriptomic studies into insecticide resistance in Anopheles mosquitoes.\n",
    "\n",
    "**[AgamPrimer](https://github.com/sanjaynagi/AgamPrimer)**\n",
    "A python package to design primers in Anopheles gambiae whilst considering genetic variation. Uses primer3 and malariagen_data. \n",
    "\n",
    "\n",
    "- [The malaria-vector-selection-atlas](https://github.com/anopheles-genomic-surveillance/selection-atlas)  \n",
    "\n",
    "**[AmpSeeker]()**\n",
    "A scalable, reproducible snakemake pipeline to analyse Illumina amplicon sequencing data. Builds a webpage to conveniently explore the results.\n",
    "\n",
    "\n",
    "- [AnoSpp package](https://github.com/malariagen/anospp-analysis)  \n",
    "\n",
    "\n",
    "- [Multiply](https://github.com/JasonAHendry/multiply)  "
   ]
  },
  {
   "cell_type": "code",
   "execution_count": null,
   "id": "d80fff03",
   "metadata": {},
   "outputs": [],
   "source": []
  }
 ],
 "metadata": {
  "kernelspec": {
   "display_name": "Python 3 (ipykernel)",
   "language": "python",
   "name": "python3"
  },
  "language_info": {
   "codemirror_mode": {
    "name": "ipython",
    "version": 3
   },
   "file_extension": ".py",
   "mimetype": "text/x-python",
   "name": "python",
   "nbconvert_exporter": "python",
   "pygments_lexer": "ipython3",
   "version": "3.10.10"
  }
 },
 "nbformat": 4,
 "nbformat_minor": 5
}
